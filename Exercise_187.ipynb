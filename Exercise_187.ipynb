{
  "nbformat": 4,
  "nbformat_minor": 0,
  "metadata": {
    "colab": {
      "name": "Exercise_187.ipynb",
      "provenance": [],
      "authorship_tag": "ABX9TyP5V3pqWXfDercqIk7jNQcI",
      "include_colab_link": true
    },
    "kernelspec": {
      "name": "python3",
      "display_name": "Python 3"
    },
    "language_info": {
      "name": "python"
    }
  },
  "cells": [
    {
      "cell_type": "markdown",
      "metadata": {
        "id": "view-in-github",
        "colab_type": "text"
      },
      "source": [
        "<a href=\"https://colab.research.google.com/github/mahmutboran/30-Days-Of-JavaScript/blob/master/Exercise_187.ipynb\" target=\"_parent\"><img src=\"https://colab.research.google.com/assets/colab-badge.svg\" alt=\"Open In Colab\"/></a>"
      ]
    },
    {
      "cell_type": "markdown",
      "source": [
        "This is an interview question asked by Stripe.\n",
        "Given an array of integers, find the first missing positive integer in linear time and constant space. In other words, find the lowest positive integer that does not exist in the array. The array can contain duplicates and negative numbers as well.\n",
        "For example, the input [3, 4, -1, 1] should give 2. The input [1, 2, 0] should give 3.\n",
        "You can modify the input array in-place."
      ],
      "metadata": {
        "id": "jjJMMEyliX6o"
      }
    },
    {
      "cell_type": "code",
      "source": [
        "def firstMissing(arr):\n",
        "  myArr = sorted(list(filter(lambda x : x>0,arr)))\n",
        "  newArr = [i for i in range(min(myArr),max(myArr)+1) if  i>0]\n",
        "  if 0 in arr : myArr.append(0),newArr.append(myArr[-2]+1)\n",
        "  for i in range(len(newArr)):\n",
        "    if myArr[i]!=newArr[i]:\n",
        "      return newArr[i]\n",
        "      break\n",
        "  \n",
        "print(firstMissing([3, 4,-1, 1]))\n",
        "print(firstMissing([1,0, 2]))\n",
        "print(firstMissing([7,5, 9, 6]))\n",
        "print(firstMissing([0,8,7,5, 9, 6]))"
      ],
      "metadata": {
        "colab": {
          "base_uri": "https://localhost:8080/"
        },
        "id": "wLYgasRnn_mY",
        "outputId": "1ef5fcae-ef7f-42d9-b542-e565223daf8b"
      },
      "execution_count": 30,
      "outputs": [
        {
          "output_type": "stream",
          "name": "stdout",
          "text": [
            "2\n",
            "3\n",
            "8\n",
            "10\n"
          ]
        }
      ]
    }
  ]
}